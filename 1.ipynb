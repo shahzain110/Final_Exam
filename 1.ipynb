{
  "nbformat": 4,
  "nbformat_minor": 0,
  "metadata": {
    "colab": {
      "provenance": [],
      "authorship_tag": "ABX9TyP/B7HsdI5GlCxCMN4ugJLl"
    },
    "kernelspec": {
      "name": "python3",
      "display_name": "Python 3"
    },
    "language_info": {
      "name": "python"
    }
  },
  "cells": [
    {
      "cell_type": "markdown",
      "source": [
        "**Answer 1 : Functions and Control Structures**\n",
        "\n",
        "---\n",
        "\n"
      ],
      "metadata": {
        "id": "Kl8YhQ-0Em8r"
      }
    },
    {
      "cell_type": "code",
      "execution_count": null,
      "metadata": {
        "id": "ebaYDY-bEmDE"
      },
      "outputs": [],
      "source": [
        "def tell_wind_condition(wind_speed : int) -> str:\n",
        "  \"\"\"\n",
        "  Determines the wind condition based on the given wind speed.\n",
        "\n",
        "  Parameters:\n",
        "  wind_speed (int): The speed of the wind in arbitrary units (e.g., km/h or mph).\n",
        "\n",
        "  Returns:\n",
        "  str: A description of the wind condition:\n",
        "        - \"Calm\" for wind speeds below 5\n",
        "        - \"Moderate\" for wind speeds between 5 and 15 (inclusive)\n",
        "        - \"High\" for wind speeds above 15\n",
        "  \"\"\"\n",
        "\n",
        "  if wind_speed < 5:\n",
        "    return \"Calm\"\n",
        "  elif wind_speed >= 5 and wind_speed <= 15:\n",
        "    return \"Moderate\"\n",
        "  else:\n",
        "    return \"High\""
      ]
    },
    {
      "cell_type": "code",
      "source": [
        "result = tell_wind_condition(2)\n",
        "print(result)\n",
        "\n",
        "result = tell_wind_condition(15)\n",
        "print(result)\n",
        "\n",
        "result = tell_wind_condition(25)\n",
        "print(result)"
      ],
      "metadata": {
        "colab": {
          "base_uri": "https://localhost:8080/"
        },
        "id": "VD5uCko9FLRJ",
        "outputId": "c61e4e56-b15b-4305-b2a1-349bb614bd20"
      },
      "execution_count": null,
      "outputs": [
        {
          "output_type": "stream",
          "name": "stdout",
          "text": [
            "Calm\n",
            "Moderate\n",
            "High\n"
          ]
        }
      ]
    }
  ]
}